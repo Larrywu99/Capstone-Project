{
 "cells": [
  {
   "cell_type": "markdown",
   "metadata": {
    "collapsed": true
   },
   "source": [
    "# Capstone Project - Relocation from New York City to Toronto\n",
    "### For Applied Data Science Capstone Course by IBM/Coursera"
   ]
  },
  {
   "cell_type": "markdown",
   "metadata": {},
   "source": [
    "## Table of contents\n",
    "* [Introduction: Business Problem Description](#introduction)\n",
    "* [Data Collection](#data)\n",
    "* [Methodology](#methodology)\n",
    "* [Analysis](#analysis)\n",
    "* [Results and Discussion](#results)\n",
    "* [Conclusion](#conclusion)"
   ]
  },
  {
   "cell_type": "markdown",
   "metadata": {},
   "source": [
    "\n",
    "\n",
    "## Introduction: Business Problem Description <a name=\"introduction\"></a>"
   ]
  },
  {
   "cell_type": "markdown",
   "metadata": {},
   "source": [
    "This project is designed to resolve the following assumed business case:\n",
    "\n",
    "A US business manager who is working for a large financial company and also living in Manhatten, New York city. Recently his company has asked him to relocate from New York to Toronto Canada to lead the efforts to set up a branch business there. He needs to decide where to set up the business office in Toronto. He also needs to select a new residential location for his family, preferrablely in a similar favorable location to his home in Manhatten in New York.\n",
    "\n",
    "This business manager approached a specialized service company to help him to evaluate the location options in Toronto for both business office and his family home in Toronto. After signing the service contract, this service company starts to work on this project. This project could involve the following aspects:\n",
    "\n",
    "1. First to evaluate and to understand the preferred characteristics from this US business manager on his current business office and family home in Manhatten in New York.\n",
    "2. Second to collect and to evaluate information related to Toronto.\n",
    "3. Compare the similarities and differences between New York and Toronto.\n",
    "4. Based on US manager's preferred selection criterias to recommend location options on new business office and residential home in Toronto.\n",
    "\n",
    "For each of above project aspects, we will conduct relevent data collection and data analysis to provide quantitative asscessment. We will work the following data science project steps:\n",
    "1. Collect neighborhood information between New York and Toronto.\n",
    "2. Collect relevant venue information that could be required to compare between New York and Toronto. \n",
    "3. Analyze the collected data to compare the similarities and differences between New York and Toronto.\n",
    "4. Based on US business manager's proposed location selection preference criterias to recommend location options for both busines office and family home in Toronto.\n",
    "\n"
   ]
  },
  {
   "cell_type": "markdown",
   "metadata": {},
   "source": [
    "## Data Collection <a name=\"data\"></a>"
   ]
  },
  {
   "cell_type": "markdown",
   "metadata": {},
   "source": [
    "#### Based on the above busienss problem descriptinon, we will collect the following data sets:  \n",
    "1. Neighborhood and venue information for New York city, including:  \n",
    "    (1) Neighborhood information for New York city.  \n",
    "    (2) Neighborhood information for Manhatten, New York.  \n",
    "    (3) Venues around existing business office in Manhatten, New York city.  \n",
    "    (4) Venues around existing family home locations in Manhatten, New York city.      \n",
    "\n",
    "\n",
    "2. Neighborhood and venue information for Toronto, including:  \n",
    "    (1) Neighborhood information for Toronto.  \n",
    "    (2) Neighborhood information for Toronto financial central location.  \n",
    "    (3) Venue information for Toronto financial central location.  "
   ]
  }
 ],
 "metadata": {
  "kernelspec": {
   "display_name": "Python 3",
   "language": "python",
   "name": "python3"
  },
  "language_info": {
   "codemirror_mode": {
    "name": "ipython",
    "version": 3
   },
   "file_extension": ".py",
   "mimetype": "text/x-python",
   "name": "python",
   "nbconvert_exporter": "python",
   "pygments_lexer": "ipython3",
   "version": "3.7.3"
  }
 },
 "nbformat": 4,
 "nbformat_minor": 1
}
